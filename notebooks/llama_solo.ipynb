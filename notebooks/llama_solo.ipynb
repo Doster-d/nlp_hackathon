{
 "cells": [
  {
   "cell_type": "code",
   "execution_count": null,
   "metadata": {},
   "outputs": [],
   "source": [
    "from RAG.llama_solo import initialize_huggingface, initialize_qa_system, run_chat_session\n",
    "import gc\n",
    "import logging\n",
    "\n",
    "logger = logging.getLogger(__name__)"
   ]
  },
  {
   "cell_type": "code",
   "execution_count": null,
   "metadata": {},
   "outputs": [],
   "source": [
    "docx_path = '../dataset/example.docx'"
   ]
  },
  {
   "cell_type": "code",
   "execution_count": null,
   "metadata": {},
   "outputs": [],
   "source": [
    "try:\n",
    "    initialize_huggingface()\n",
    "except Exception as error:\n",
    "    logger.error('Failed to initialize HuggingFace: %s', error)\n",
    "    raise\n",
    "\n",
    "try:\n",
    "    qa_chain, doc_data = initialize_qa_system(docx_path)\n",
    "except Exception as error:\n",
    "    logger.error('Failed to initialize QA system: %s', error)\n",
    "    raise\n",
    "\n",
    "try:\n",
    "    run_chat_session(qa_chain, doc_data)\n",
    "except Exception as error:\n",
    "    logger.error('Error in chat session: %s', error)\n",
    "    raise\n",
    "finally:\n",
    "    gc.collect()"
   ]
  }
 ],
 "metadata": {
  "language_info": {
   "name": "python"
  }
 },
 "nbformat": 4,
 "nbformat_minor": 2
}
