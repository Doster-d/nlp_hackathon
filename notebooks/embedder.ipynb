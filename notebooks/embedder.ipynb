{
 "cells": [
  {
   "cell_type": "markdown",
   "metadata": {},
   "source": [
    "# Пример использования системы анализа текста\n",
    "\n",
    "Этот ноутбук демонстрирует работу с текстом, эмбеддингами и их визуализацией."
   ]
  },
  {
   "cell_type": "code",
   "execution_count": null,
   "metadata": {},
   "outputs": [],
   "source": [
    "from InformationRetrieval.text_embedder import RussianTransformerEmbedder\n",
    "from sklearn.metrics.pairwise import cosine_similarity\n",
    "from umap import UMAP\n",
    "import plotly.graph_objects as go\n",
    "import plotly.express as px\n",
    "import pandas as pd\n",
    "from typing import Iterator, List, Tuple, Union\n",
    "import numpy as np\n"
   ]
  },
  {
   "cell_type": "code",
   "execution_count": null,
   "metadata": {},
   "outputs": [],
   "source": [
    "class EnhancedRussianTransformerEmbedder(RussianTransformerEmbedder):\n",
    "    \"\"\"Extended version of embedder with support for comparison and visualization.\"\"\"\n",
    "\n",
    "    def __init__(self, model_type: str = 'deeppavlov'):\n",
    "        \"\"\"Initialize enhanced embedder.\"\"\"\n",
    "        super().__init__(model_type=model_type)\n",
    "        self.umap_reducer = UMAP(n_components=2, random_state=self.DEFAULT_SEED)\n",
    "\n",
    "    def compare_embeddings(\n",
    "        self,\n",
    "        questions: List[str],\n",
    "        text_chunks: List[str],\n",
    "    ) -> Tuple[np.ndarray, pd.DataFrame]:\n",
    "        \"\"\"Compare embeddings of questions and text.\n",
    "\n",
    "        Args:\n",
    "            questions: List of questions\n",
    "            text_chunks: List of text chunks\n",
    "\n",
    "        Returns:\n",
    "            Tuple[np.ndarray, pd.DataFrame]: Similarity matrix and dataframe with results\n",
    "        \"\"\"\n",
    "        question_embeddings = self.model.encode(questions)\n",
    "        text_embeddings = self.model.encode(text_chunks)\n",
    "        similarity_matrix = cosine_similarity(question_embeddings, text_embeddings)\n",
    "\n",
    "        comparison_data = []\n",
    "        for question_idx, question in enumerate(questions):\n",
    "            for chunk_idx, chunk in enumerate(text_chunks):\n",
    "                comparison_data.append(\n",
    "                    {\n",
    "                        'Вопрос': question,\n",
    "                        'Текст': chunk,\n",
    "                        'Схожесть': similarity_matrix[question_idx][chunk_idx],\n",
    "                    },\n",
    "                )\n",
    "\n",
    "        return similarity_matrix, pd.DataFrame(comparison_data)\n",
    "\n",
    "    def visualize_embeddings(\n",
    "        self,\n",
    "        questions: List[str],\n",
    "        text_chunks: List[str],\n",
    "        title: str = 'Визуализация эмбеддингов',\n",
    "    ) -> go.Figure:\n",
    "        \"\"\"Create visualization of embeddings.\n",
    "\n",
    "        Args:\n",
    "            questions: List of questions\n",
    "            text_chunks: List of text chunks\n",
    "            title: Title of the plot\n",
    "\n",
    "        Returns:\n",
    "            go.Figure: Plotly plot\n",
    "        \"\"\"\n",
    "        # Get embeddings\n",
    "        question_embeddings = self.model.encode(questions)\n",
    "        text_embeddings = self.model.encode(text_chunks)\n",
    "        combined_embeddings = np.vstack([question_embeddings, text_embeddings])\n",
    "\n",
    "        # Reduce dimensionality for visualization\n",
    "        reduced_embeddings = self.umap_reducer.fit_transform(combined_embeddings)\n",
    "\n",
    "        # Create labels for visualization\n",
    "        data_types = ['Вопрос'] * len(questions) + ['Текст'] * len(text_chunks)\n",
    "        texts = questions + text_chunks\n",
    "\n",
    "        # Create dataframe for visualization\n",
    "        visualization_data = pd.DataFrame(\n",
    "            {\n",
    "                'x': reduced_embeddings[:, 0],\n",
    "                'y': reduced_embeddings[:, 1],\n",
    "                'type': data_types,\n",
    "                'text': texts,\n",
    "            },\n",
    "        )\n",
    "\n",
    "        return px.scatter(\n",
    "            visualization_data,\n",
    "            x='x',\n",
    "            y='y',\n",
    "            color='type',\n",
    "            hover_data=['text'],\n",
    "            title=title,\n",
    "        )\n"
   ]
  },
  {
   "cell_type": "code",
   "execution_count": null,
   "metadata": {},
   "outputs": [],
   "source": [
    "class TextGenerator:\n",
    "    \"\"\"Генератор текста с таблицами и списками.\"\"\"\n",
    "\n",
    "    def create_sample_text(self) -> str:\n",
    "        \"\"\"Создает пример текста с таблицей и списком.\n",
    "\n",
    "        Returns:\n",
    "            str: Сгенерированный текст\n",
    "        \"\"\"\n",
    "        sample_text = \"\"\"\n",
    "        Отчет о продажах за 2023 год\n",
    "\n",
    "        ТАБЛИЦА: Квартальные продажи\n",
    "        Строка 1: Q1 2023 | Продажи: 1000000 | Рост: 15%\n",
    "        Строка 2: Q2 2023 | Продажи: 1200000 | Рост: 20%\n",
    "        Строка 3: Q3 2023 | Продажи: 1500000 | Рост: 25%\n",
    "        Строка 4: Q4 2023 | Продажи: 1800000 | Рост: 30%\n",
    "\n",
    "        Основные достижения:\n",
    "        - Увеличение общего объема продаж\n",
    "        - Расширение клиентской базы\n",
    "        - Выход на новые рынки\n",
    "\n",
    "        ТАБЛИЦА: Региональное распределение\n",
    "        Строка 1: Москва | Доля: 40% | Статус: Активный рост\n",
    "        Строка 2: Санкт-Петербург | Доля: 30% | Статус: Стабильно\n",
    "        Строка 3: Регионы | Доля: 30% | Статус: Развитие\n",
    "        \"\"\"\n",
    "        return sample_text"
   ]
  },
  {
   "cell_type": "markdown",
   "metadata": {},
   "source": [
    "## 1. Генерация примера текста с таблицами"
   ]
  },
  {
   "cell_type": "code",
   "execution_count": null,
   "metadata": {},
   "outputs": [],
   "source": [
    "text_generator = TextGenerator()\n",
    "sample_text = text_generator.create_sample_text()\n",
    "print(sample_text)"
   ]
  },
  {
   "cell_type": "markdown",
   "metadata": {},
   "source": [
    "## 2. Подготовка вопросов и анализ текста"
   ]
  },
  {
   "cell_type": "code",
   "execution_count": null,
   "metadata": {},
   "outputs": [],
   "source": [
    "questions = [\n",
    "    \"Какие продажи были в первом квартале?\",\n",
    "    \"Какая доля продаж в Москве?\",\n",
    "    \"Какие основные достижения компании?\",\n",
    "    \"Как развиваются регионы?\"\n",
    "]\n",
    "\n",
    "text_chunks = sample_text.split('\\n')\n",
    "text_chunks = [chunk.strip() for chunk in text_chunks if chunk.strip()]"
   ]
  },
  {
   "cell_type": "markdown",
   "metadata": {},
   "source": [
    "## 3. Создание эмбеддингов и анализ схожести"
   ]
  },
  {
   "cell_type": "code",
   "execution_count": null,
   "metadata": {},
   "outputs": [],
   "source": [
    "embedder = EnhancedRussianTransformerEmbedder()\n",
    "\n",
    "similarity_matrix, results_df = embedder.compare_embeddings(questions, text_chunks)\n",
    "\n",
    "for question in questions:\n",
    "    print(f\"\\nВопрос: {question}\")\n",
    "    question_results = results_df[results_df['Вопрос'] == question].sort_values('Схожесть', ascending=False).head(3)\n",
    "    for _, row in question_results.iterrows():\n",
    "        print(f\"Схожесть: {row['Схожесть']:.3f} | Текст: {row['Текст']}\")"
   ]
  },
  {
   "cell_type": "markdown",
   "metadata": {},
   "source": [
    "## 4. Визуализация эмбеддингов"
   ]
  },
  {
   "cell_type": "code",
   "execution_count": null,
   "metadata": {},
   "outputs": [],
   "source": [
    "fig = embedder.visualize_embeddings(questions, text_chunks)\n",
    "fig.show()"
   ]
  }
 ],
 "metadata": {
  "kernelspec": {
   "display_name": "Python 3",
   "language": "python",
   "name": "python3"
  },
  "language_info": {
   "codemirror_mode": {
    "name": "ipython",
    "version": 3
   },
   "file_extension": ".py",
   "mimetype": "text/x-python",
   "name": "python",
   "nbconvert_exporter": "python",
   "pygments_lexer": "ipython3",
   "version": "3.12.7"
  }
 },
 "nbformat": 4,
 "nbformat_minor": 4
}
